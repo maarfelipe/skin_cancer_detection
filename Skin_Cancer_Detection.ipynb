{
  "cells": [
    {
      "cell_type": "code",
      "execution_count": 13,
      "metadata": {
        "id": "kES_rD67rrG6"
      },
      "outputs": [],
      "source": [
        "import pandas as pd\n",
        "import numpy as np\n",
        "import warnings \n",
        "warnings.filterwarnings('ignore')"
      ]
    },
    {
      "cell_type": "markdown",
      "metadata": {
        "id": "Xp6IRzqhu1Q9"
      },
      "source": [
        "In this code snippet, I imported essential libraries for data manipulation and handling warnings in a machine learning project.\n",
        "\n",
        "- **Pandas**: Used for efficient data manipulation and analysis, providing data structures like DataFrame for working with structured data.\n",
        "- **NumPy**: Although not explicitly used in this snippet, it is a fundamental library for numerical operations in Python. It often complements Pandas for handling numerical arrays and operations.\n",
        "- **Warnings**: The warnings module is employed to filter and ignore any warnings that might be raised during the execution of the code. This can be useful to prevent warnings from cluttering the output and affecting the readability of results."
      ]
    },
    {
      "cell_type": "code",
      "execution_count": 14,
      "metadata": {
        "id": "TSlPUvq-sfo4"
      },
      "outputs": [],
      "source": [
        "df=pd.read_csv('hmnist_28_28_RGB.csv.zip')"
      ]
    },
    {
      "cell_type": "markdown",
      "metadata": {},
      "source": [
        "This code line uses Pandas to read a compressed CSV file `('hmnist_28_28_RGB.csv.zip')` and creates a DataFrame. It's a standard step for loading data in a machine learning project."
      ]
    },
    {
      "cell_type": "code",
      "execution_count": 15,
      "metadata": {
        "colab": {
          "base_uri": "https://localhost:8080/",
          "height": 299
        },
        "id": "-XZB67tXslAf",
        "outputId": "bf1e7171-0aea-487a-8835-d052283ea720"
      },
      "outputs": [
        {
          "data": {
            "text/html": [
              "<div>\n",
              "<style scoped>\n",
              "    .dataframe tbody tr th:only-of-type {\n",
              "        vertical-align: middle;\n",
              "    }\n",
              "\n",
              "    .dataframe tbody tr th {\n",
              "        vertical-align: top;\n",
              "    }\n",
              "\n",
              "    .dataframe thead th {\n",
              "        text-align: right;\n",
              "    }\n",
              "</style>\n",
              "<table border=\"1\" class=\"dataframe\">\n",
              "  <thead>\n",
              "    <tr style=\"text-align: right;\">\n",
              "      <th></th>\n",
              "      <th>pixel0000</th>\n",
              "      <th>pixel0001</th>\n",
              "      <th>pixel0002</th>\n",
              "      <th>pixel0003</th>\n",
              "      <th>pixel0004</th>\n",
              "      <th>pixel0005</th>\n",
              "      <th>pixel0006</th>\n",
              "      <th>pixel0007</th>\n",
              "      <th>pixel0008</th>\n",
              "      <th>pixel0009</th>\n",
              "      <th>...</th>\n",
              "      <th>pixel2343</th>\n",
              "      <th>pixel2344</th>\n",
              "      <th>pixel2345</th>\n",
              "      <th>pixel2346</th>\n",
              "      <th>pixel2347</th>\n",
              "      <th>pixel2348</th>\n",
              "      <th>pixel2349</th>\n",
              "      <th>pixel2350</th>\n",
              "      <th>pixel2351</th>\n",
              "      <th>label</th>\n",
              "    </tr>\n",
              "  </thead>\n",
              "  <tbody>\n",
              "    <tr>\n",
              "      <th>10010</th>\n",
              "      <td>183</td>\n",
              "      <td>165</td>\n",
              "      <td>181</td>\n",
              "      <td>182</td>\n",
              "      <td>165</td>\n",
              "      <td>180</td>\n",
              "      <td>184</td>\n",
              "      <td>166</td>\n",
              "      <td>182</td>\n",
              "      <td>188</td>\n",
              "      <td>...</td>\n",
              "      <td>208</td>\n",
              "      <td>185</td>\n",
              "      <td>187</td>\n",
              "      <td>208</td>\n",
              "      <td>186</td>\n",
              "      <td>186</td>\n",
              "      <td>206</td>\n",
              "      <td>187</td>\n",
              "      <td>189</td>\n",
              "      <td>0</td>\n",
              "    </tr>\n",
              "    <tr>\n",
              "      <th>10011</th>\n",
              "      <td>2</td>\n",
              "      <td>3</td>\n",
              "      <td>1</td>\n",
              "      <td>38</td>\n",
              "      <td>33</td>\n",
              "      <td>32</td>\n",
              "      <td>121</td>\n",
              "      <td>104</td>\n",
              "      <td>103</td>\n",
              "      <td>132</td>\n",
              "      <td>...</td>\n",
              "      <td>96</td>\n",
              "      <td>79</td>\n",
              "      <td>76</td>\n",
              "      <td>24</td>\n",
              "      <td>23</td>\n",
              "      <td>21</td>\n",
              "      <td>3</td>\n",
              "      <td>4</td>\n",
              "      <td>1</td>\n",
              "      <td>0</td>\n",
              "    </tr>\n",
              "    <tr>\n",
              "      <th>10012</th>\n",
              "      <td>132</td>\n",
              "      <td>118</td>\n",
              "      <td>118</td>\n",
              "      <td>167</td>\n",
              "      <td>149</td>\n",
              "      <td>149</td>\n",
              "      <td>175</td>\n",
              "      <td>156</td>\n",
              "      <td>160</td>\n",
              "      <td>184</td>\n",
              "      <td>...</td>\n",
              "      <td>204</td>\n",
              "      <td>181</td>\n",
              "      <td>178</td>\n",
              "      <td>181</td>\n",
              "      <td>159</td>\n",
              "      <td>153</td>\n",
              "      <td>172</td>\n",
              "      <td>151</td>\n",
              "      <td>145</td>\n",
              "      <td>0</td>\n",
              "    </tr>\n",
              "    <tr>\n",
              "      <th>10013</th>\n",
              "      <td>160</td>\n",
              "      <td>124</td>\n",
              "      <td>146</td>\n",
              "      <td>164</td>\n",
              "      <td>131</td>\n",
              "      <td>152</td>\n",
              "      <td>167</td>\n",
              "      <td>127</td>\n",
              "      <td>146</td>\n",
              "      <td>169</td>\n",
              "      <td>...</td>\n",
              "      <td>185</td>\n",
              "      <td>162</td>\n",
              "      <td>167</td>\n",
              "      <td>184</td>\n",
              "      <td>157</td>\n",
              "      <td>166</td>\n",
              "      <td>185</td>\n",
              "      <td>162</td>\n",
              "      <td>172</td>\n",
              "      <td>0</td>\n",
              "    </tr>\n",
              "    <tr>\n",
              "      <th>10014</th>\n",
              "      <td>175</td>\n",
              "      <td>142</td>\n",
              "      <td>121</td>\n",
              "      <td>181</td>\n",
              "      <td>150</td>\n",
              "      <td>134</td>\n",
              "      <td>181</td>\n",
              "      <td>150</td>\n",
              "      <td>133</td>\n",
              "      <td>178</td>\n",
              "      <td>...</td>\n",
              "      <td>159</td>\n",
              "      <td>79</td>\n",
              "      <td>82</td>\n",
              "      <td>174</td>\n",
              "      <td>137</td>\n",
              "      <td>125</td>\n",
              "      <td>175</td>\n",
              "      <td>139</td>\n",
              "      <td>126</td>\n",
              "      <td>6</td>\n",
              "    </tr>\n",
              "  </tbody>\n",
              "</table>\n",
              "<p>5 rows × 2353 columns</p>\n",
              "</div>"
            ],
            "text/plain": [
              "       pixel0000  pixel0001  pixel0002  pixel0003  pixel0004  pixel0005  \\\n",
              "10010        183        165        181        182        165        180   \n",
              "10011          2          3          1         38         33         32   \n",
              "10012        132        118        118        167        149        149   \n",
              "10013        160        124        146        164        131        152   \n",
              "10014        175        142        121        181        150        134   \n",
              "\n",
              "       pixel0006  pixel0007  pixel0008  pixel0009  ...  pixel2343  pixel2344  \\\n",
              "10010        184        166        182        188  ...        208        185   \n",
              "10011        121        104        103        132  ...         96         79   \n",
              "10012        175        156        160        184  ...        204        181   \n",
              "10013        167        127        146        169  ...        185        162   \n",
              "10014        181        150        133        178  ...        159         79   \n",
              "\n",
              "       pixel2345  pixel2346  pixel2347  pixel2348  pixel2349  pixel2350  \\\n",
              "10010        187        208        186        186        206        187   \n",
              "10011         76         24         23         21          3          4   \n",
              "10012        178        181        159        153        172        151   \n",
              "10013        167        184        157        166        185        162   \n",
              "10014         82        174        137        125        175        139   \n",
              "\n",
              "       pixel2351  label  \n",
              "10010        189      0  \n",
              "10011          1      0  \n",
              "10012        145      0  \n",
              "10013        172      0  \n",
              "10014        126      6  \n",
              "\n",
              "[5 rows x 2353 columns]"
            ]
          },
          "execution_count": 15,
          "metadata": {},
          "output_type": "execute_result"
        }
      ],
      "source": [
        "df.tail()"
      ]
    },
    {
      "cell_type": "markdown",
      "metadata": {},
      "source": [
        "Here, df.tail() is used to display the last few rows of the DataFrame df. This is a quick way to inspect the end of the dataset and get a sense of its structure. It's often used for a preliminary examination to check data integrity, variable types, and potential issues, ensure that df is defined and contains data before calling this method."
      ]
    },
    {
      "cell_type": "code",
      "execution_count": 16,
      "metadata": {
        "id": "iILXCW2hsoDl"
      },
      "outputs": [],
      "source": [
        "fractions=np.array([0.8,0.2])\n",
        "df=df.sample(frac=1)\n",
        "train_set, test_set = np.array_split(df, (fractions[:-1].cumsum() * len(df)).astype(int))"
      ]
    },
    {
      "cell_type": "markdown",
      "metadata": {},
      "source": [
        "In this code snippet, the dataset is being split into training and test sets. Here's a breakdown:\n",
        "\n",
        "- `df.sample(frac=1)`: Shuffles the DataFrame randomly, ensuring a diverse representation in both the training and test sets.\n",
        "- `np.array_split(df, (fractions[:-1].cumsum() * len(df)).astype(int))`: Splits the shuffled DataFrame into training and test sets based on the specified fractions. The cumulative sum of the fractions determines the split points.\n",
        "\n",
        "This approach is common in machine learning to ensure a representative distribution of data in both sets. It's essential to verify that `df` is loaded and contains the expected data before executing this code."
      ]
    },
    {
      "cell_type": "code",
      "execution_count": 17,
      "metadata": {
        "colab": {
          "base_uri": "https://localhost:8080/"
        },
        "id": "As38rXlQs1PY",
        "outputId": "2fea275b-f97f-413f-90ca-fbe82daa4972"
      },
      "outputs": [
        {
          "data": {
            "text/plain": [
              "8012"
            ]
          },
          "metadata": {},
          "output_type": "display_data"
        },
        {
          "data": {
            "text/plain": [
              "2003"
            ]
          },
          "metadata": {},
          "output_type": "display_data"
        }
      ],
      "source": [
        "display(len(train_set))\n",
        "display(len(test_set))"
      ]
    },
    {
      "cell_type": "markdown",
      "metadata": {},
      "source": [
        "This code utilizes the `display` function to show the lengths of the training set (`train_set`) and the test set (`test_set`). This approach is helpful for a clear and concise display of the dataset sizes during exploratory data analysis or when presenting results."
      ]
    },
    {
      "cell_type": "code",
      "execution_count": 18,
      "metadata": {
        "colab": {
          "base_uri": "https://localhost:8080/"
        },
        "id": "3w2H4w0_ubRT",
        "outputId": "66c0a7ae-3ab5-4512-8991-1641377bbcc6"
      },
      "outputs": [
        {
          "data": {
            "text/plain": [
              "array([2, 4, 1, 0, 6, 5, 3], dtype=int64)"
            ]
          },
          "execution_count": 18,
          "metadata": {},
          "output_type": "execute_result"
        }
      ],
      "source": [
        "df.label.unique()"
      ]
    },
    {
      "cell_type": "markdown",
      "metadata": {},
      "source": [
        "This code line retrieves the unique values of the 'label' column in the DataFrame `df`. The `unique()` method is commonly used to identify distinct categories or classes in a categorical variable, which is often crucial in classification tasks."
      ]
    },
    {
      "cell_type": "code",
      "execution_count": 19,
      "metadata": {
        "id": "lHk4p-sdugSa"
      },
      "outputs": [],
      "source": [
        "classes={\n",
        "    0:('akiec', 'actinic keratoses and intraepithelial carcinomae'),\n",
        "    1:('bcc' , 'basal cell carcinoma'),         \n",
        "    2:('bkl', 'benign keratosis-like lesions'),         \n",
        "    3:('df', 'dermatofibroma'),         \n",
        "    4:('nv', ' melanocytic nevi'),         \n",
        "    5:('vasc', ' pyogenic granulomas and hemorrhage'),         \n",
        "    6:('mel', 'melanoma'),\n",
        "}"
      ]
    },
    {
      "cell_type": "markdown",
      "metadata": {},
      "source": [
        "This code defines a dictionary `classes` mapping numerical labels to corresponding skin disease categories, this is a common practice in machine learning, where numeric labels are associated with human-readable class names, the clarity of class definitions enhances the interpretability of model results and facilitates further analysis"
      ]
    },
    {
      "cell_type": "code",
      "execution_count": 20,
      "metadata": {
        "id": "2W5sBRkZtBr9"
      },
      "outputs": [],
      "source": [
        "y_train=train_set['label']\n",
        "x_train=train_set.drop(columns=['label'])\n",
        "y_test=test_set['label']\n",
        "x_test=test_set.drop(columns=['label'])\n",
        "columns=list(x_train)"
      ]
    },
    {
      "cell_type": "markdown",
      "metadata": {},
      "source": [
        "This set of code lines extracts the target labels (`y_train` and `y_test`) and feature sets (`x_train` and `x_test`) from the training and test sets, respectively. Additionally, it captures the list of column names in the variable `columns`. This structure is common in machine learning workflows, separating features and labels for training and testing, it is crucial to verify that the specified column names ('label') exist in the datasets before running these operations."
      ]
    },
    {
      "cell_type": "code",
      "execution_count": 21,
      "metadata": {
        "colab": {
          "base_uri": "https://localhost:8080/"
        },
        "id": "JzQneFTdtWO1",
        "outputId": "b8016af4-5370-474f-8991-208944e47404"
      },
      "outputs": [
        {
          "data": {
            "text/plain": [
              "device(type='cpu')"
            ]
          },
          "metadata": {},
          "output_type": "display_data"
        }
      ],
      "source": [
        "import torch\n",
        "\n",
        "device = torch.device('cuda:0' if torch.cuda.is_available() else 'cpu')\n",
        "display(device)"
      ]
    },
    {
      "cell_type": "markdown",
      "metadata": {},
      "source": [
        "This code determines whether a CUDA-enabled GPU is available. If so, it sets the device to GPU ('cuda:0'), otherwise to CPU. This is crucial for optimizing deep learning tasks, as GPUs excel in parallel computations, significantly speeding up neural network training."
      ]
    },
    {
      "cell_type": "code",
      "execution_count": 23,
      "metadata": {
        "id": "CKIlAJY9pwh1"
      },
      "outputs": [],
      "source": [
        "from imblearn.over_sampling import RandomOverSampler \n",
        "\n",
        "oversample = RandomOverSampler()\n",
        "\n",
        "x_train,y_train  = oversample.fit_resample(x_train,y_train)"
      ]
    },
    {
      "cell_type": "markdown",
      "metadata": {},
      "source": [
        "The code uses the RandomOverSampler from the imbalanced-learn library to address class imbalance in the training data. Class imbalance can lead to biased models, as the algorithm might give more weight to the majority class. RandomOverSampler balances the class distribution by oversampling the minority class, creating synthetic samples. This helps improve the model's ability to generalize and make more accurate predictions on the minority class."
      ]
    },
    {
      "cell_type": "code",
      "execution_count": 26,
      "metadata": {
        "colab": {
          "base_uri": "https://localhost:8080/",
          "height": 809
        },
        "id": "84ADzEUx5R9I",
        "outputId": "93d80c0d-cad7-4f5d-fecf-a8ea8706c8ee"
      },
      "outputs": [
        {
          "data": {
            "image/png": "[encoded data removed]",
            "text/plain": [
              "<Figure size 640x480 with 1 Axes>"
            ]
          },
          "metadata": {},
          "output_type": "display_data"
        },
        {
          "data": {
            "image/png": "[encoded data removed]",
            "text/plain": [
              "<Figure size 640x480 with 1 Axes>"
            ]
          },
          "metadata": {},
          "output_type": "display_data"
        },
        {
          "data": {
            "image/png": "[encoded data removed]",
            "text/plain": [
              "<Figure size 640x480 with 1 Axes>"
            ]
          },
          "metadata": {},
          "output_type": "display_data"
        }
      ],
      "source": [
        "import matplotlib.pyplot as plt\n",
        "import random\n",
        "\n",
        "num=random.randint(0,8000)\n",
        "x_train=np.array(x_train, dtype=np.uint8).reshape(-1,28,28,3)\n",
        "\n",
        "plt.imshow(x_train[num].reshape(28,28,3))\n",
        "plt.title(\"Random image from training data\")\n",
        "plt.show()\n",
        "num=random.randint(0,8000)\n",
        "plt.imshow(x_train[num].reshape(28,28,3))\n",
        "plt.title(\"Random image from training data\")\n",
        "plt.show()\n",
        "\n",
        "num=random.randint(0,8000)\n",
        "plt.imshow(x_train[num].reshape(28,28,3))\n",
        "plt.title(\"Random image from training data\")\n",
        "plt.show()"
      ]
    },
    {
      "cell_type": "markdown",
      "metadata": {},
      "source": [
        "The `show_random_image` function is designed to display a random image, it takes two parameters - the dataset (`data`) containing image data and a `title` for the displayed image, this function encapsulates the logic of selecting a random image, reshaping it to the standard dimensions (28x28x3), and presenting it with the specified title using Matplotlib."
      ]
    },
    {
      "cell_type": "code",
      "execution_count": 27,
      "metadata": {
        "id": "obmDZia7Sxnn"
      },
      "outputs": [
        {
          "name": "stdout",
          "output_type": "stream",
          "text": [
            "WARNING:tensorflow:From c:\\Users\\maraujo\\OneDrive\\FIAP\\2ºano\\GlobalSolution-2sm\\skin_cancer_detection\\venv\\Lib\\site-packages\\keras\\src\\losses.py:2976: The name tf.losses.sparse_softmax_cross_entropy is deprecated. Please use tf.compat.v1.losses.sparse_softmax_cross_entropy instead.\n",
            "\n"
          ]
        }
      ],
      "source": [
        "from tensorflow.keras.models import Sequential\n",
        "from tensorflow.keras.layers import Conv2D, Flatten, Dense, MaxPool2D\n",
        "import tensorflow as tf"
      ]
    },
    {
      "cell_type": "markdown",
      "metadata": {},
      "source": [
        "Importing essential libraries for a machine learning project, TensorFlow is a popular open-source machine learning library. \n",
        "\n",
        "- Sequential: Used to create a linear stack of layers in a neural network.\n",
        "- Conv2D: Convolutional layer for 2D spatial convolution. Commonly used in image processing.\n",
        "- Flatten: Used to flatten the input, necessary when transitioning from convolutional to fully connected layers.\n",
        "- Dense: Fully connected layer, where each neuron is connected to every neuron in the previous and next layers.\n",
        "- MaxPool2D: Max pooling layer for 2D spatial data. It reduces spatial dimensions and retains the most important information.\n",
        "- tensorflow as tf: Renaming the imported TensorFlow module for brevity in code."
      ]
    },
    {
      "cell_type": "markdown",
      "metadata": {},
      "source": []
    },
    {
      "cell_type": "code",
      "execution_count": 28,
      "metadata": {
        "colab": {
          "base_uri": "https://localhost:8080/"
        },
        "id": "Vsll2hd2wzuS",
        "outputId": "add27fd4-5383-4f03-8dd4-f1f7d50478cc"
      },
      "outputs": [
        {
          "name": "stdout",
          "output_type": "stream",
          "text": [
            "CPU times: total: 0 ns\n",
            "Wall time: 0 ns\n",
            "WARNING:tensorflow:From c:\\Users\\maraujo\\OneDrive\\FIAP\\2ºano\\GlobalSolution-2sm\\skin_cancer_detection\\venv\\Lib\\site-packages\\keras\\src\\backend.py:873: The name tf.get_default_graph is deprecated. Please use tf.compat.v1.get_default_graph instead.\n",
            "\n",
            "WARNING:tensorflow:From c:\\Users\\maraujo\\OneDrive\\FIAP\\2ºano\\GlobalSolution-2sm\\skin_cancer_detection\\venv\\Lib\\site-packages\\keras\\src\\layers\\pooling\\max_pooling2d.py:161: The name tf.nn.max_pool is deprecated. Please use tf.nn.max_pool2d instead.\n",
            "\n",
            "Model: \"sequential\"\n",
            "_________________________________________________________________\n",
            " Layer (type)                Output Shape              Param #   \n",
            "=================================================================\n",
            " conv2d (Conv2D)             (None, 28, 28, 16)        448       \n",
            "                                                                 \n",
            " max_pooling2d (MaxPooling2  (None, 14, 14, 16)        0         \n",
            " D)                                                              \n",
            "                                                                 \n",
            " batch_normalization (Batch  (None, 14, 14, 16)        64        \n",
            " Normalization)                                                  \n",
            "                                                                 \n",
            " conv2d_1 (Conv2D)           (None, 12, 12, 32)        4640      \n",
            "                                                                 \n",
            " conv2d_2 (Conv2D)           (None, 10, 10, 64)        18496     \n",
            "                                                                 \n",
            " max_pooling2d_1 (MaxPoolin  (None, 5, 5, 64)          0         \n",
            " g2D)                                                            \n",
            "                                                                 \n",
            " batch_normalization_1 (Bat  (None, 5, 5, 64)          256       \n",
            " chNormalization)                                                \n",
            "                                                                 \n",
            " conv2d_3 (Conv2D)           (None, 3, 3, 128)         73856     \n",
            "                                                                 \n",
            " conv2d_4 (Conv2D)           (None, 1, 1, 256)         295168    \n",
            "                                                                 \n",
            " flatten (Flatten)           (None, 256)               0         \n",
            "                                                                 \n",
            " dropout (Dropout)           (None, 256)               0         \n",
            "                                                                 \n",
            " dense (Dense)               (None, 256)               65792     \n",
            "                                                                 \n",
            " batch_normalization_2 (Bat  (None, 256)               1024      \n",
            " chNormalization)                                                \n",
            "                                                                 \n",
            " dropout_1 (Dropout)         (None, 256)               0         \n",
            "                                                                 \n",
            " dense_1 (Dense)             (None, 128)               32896     \n",
            "                                                                 \n",
            " batch_normalization_3 (Bat  (None, 128)               512       \n",
            " chNormalization)                                                \n",
            "                                                                 \n",
            " dense_2 (Dense)             (None, 64)                8256      \n",
            "                                                                 \n",
            " batch_normalization_4 (Bat  (None, 64)                256       \n",
            " chNormalization)                                                \n",
            "                                                                 \n",
            " dropout_2 (Dropout)         (None, 64)                0         \n",
            "                                                                 \n",
            " dense_3 (Dense)             (None, 32)                2080      \n",
            "                                                                 \n",
            " batch_normalization_5 (Bat  (None, 32)                128       \n",
            " chNormalization)                                                \n",
            "                                                                 \n",
            " dense_4 (Dense)             (None, 7)                 231       \n",
            "                                                                 \n",
            "=================================================================\n",
            "Total params: 504103 (1.92 MB)\n",
            "Trainable params: 502983 (1.92 MB)\n",
            "Non-trainable params: 1120 (4.38 KB)\n",
            "_________________________________________________________________\n"
          ]
        }
      ],
      "source": [
        "%time \n",
        "\n",
        "model = Sequential()\n",
        "\n",
        "model.add(Conv2D(16, \n",
        "                 kernel_size = (3,3), \n",
        "                 input_shape = (28, 28, 3), \n",
        "                 activation = 'relu', \n",
        "                 padding = 'same'))\n",
        "\n",
        "model.add(MaxPool2D(pool_size = (2,2)))\n",
        "model.add(tf.keras.layers.BatchNormalization())\n",
        "\n",
        "model.add(Conv2D(32, \n",
        "                 kernel_size = (3,3), \n",
        "                 activation = 'relu'))\n",
        "\n",
        "model.add(Conv2D(64, \n",
        "                 kernel_size = (3,3), \n",
        "                 activation = 'relu'))\n",
        "\n",
        "model.add(MaxPool2D(pool_size = (2,2)))\n",
        "\n",
        "model.add(tf.keras.layers.BatchNormalization())\n",
        "\n",
        "model.add(Conv2D(128, \n",
        "                 kernel_size = (3,3), \n",
        "                 activation = 'relu'))\n",
        "\n",
        "model.add(Conv2D(256, \n",
        "                 kernel_size = (3,3), \n",
        "                 activation = 'relu'))\n",
        "\n",
        "model.add(Flatten())\n",
        "model.add(tf.keras.layers.Dropout(0.2))\n",
        "model.add(Dense(256,activation='relu'))\n",
        "\n",
        "model.add(tf.keras.layers.BatchNormalization())\n",
        "model.add(tf.keras.layers.Dropout(0.2))\n",
        "model.add(Dense(128,activation='relu'))\n",
        "\n",
        "model.add(tf.keras.layers.BatchNormalization())\n",
        "model.add(Dense(64,activation='relu'))\n",
        "\n",
        "model.add(tf.keras.layers.BatchNormalization())\n",
        "model.add(tf.keras.layers.Dropout(0.2))\n",
        "model.add(Dense(32,activation='relu'))\n",
        "\n",
        "model.add(tf.keras.layers.BatchNormalization())\n",
        "model.add(Dense(7,activation='softmax'))\n",
        "\n",
        "model.summary()"
      ]
    },
    {
      "cell_type": "markdown",
      "metadata": {},
      "source": [
        "The provided code defines a Convolutional Neural Network (CNN) using the Keras Sequential API. The architecture includes convolutional layers with varying filter sizes, max-pooling layers, batch normalization, dropout for regularization, and dense layers for classification. The model's architecture and parameter details can be summarized using the `model.summary()` function."
      ]
    },
    {
      "cell_type": "code",
      "execution_count": 29,
      "metadata": {
        "id": "g4B4-f7ehUIW"
      },
      "outputs": [],
      "source": [
        "from tensorflow.keras.callbacks import ModelCheckpoint\n",
        "\n",
        "checkpoint_callback = ModelCheckpoint(\n",
        "    filepath='best_model.h5',\n",
        "    monitor='val_accuracy', \n",
        "    save_best_only=True,\n",
        "    mode='max',\n",
        "    verbose=1\n",
        ")"
      ]
    },
    {
      "cell_type": "markdown",
      "metadata": {},
      "source": [
        "The provided code initializes a ModelCheckpoint callback using TensorFlow's Keras library. This callback will monitor the validation accuracy during training and save the model with the highest validation accuracy to a file named 'best_model.h5'. The `save_best_only` parameter ensures that only the best-performing model is saved, and the `verbose` parameter is set to 1 for detailed output during training."
      ]
    },
    {
      "cell_type": "code",
      "execution_count": 30,
      "metadata": {
        "colab": {
          "base_uri": "https://localhost:8080/"
        },
        "id": "wPmBHtmLxxR4",
        "outputId": "d01e165f-d76c-4e40-c963-359c09e5fb9d"
      },
      "outputs": [
        {
          "name": "stdout",
          "output_type": "stream",
          "text": [
            "CPU times: total: 0 ns\n",
            "Wall time: 0 ns\n"
          ]
        }
      ],
      "source": [
        "%time \n",
        "\n",
        "optimizer=tf.keras.optimizers.Adam(learning_rate=0.001)\n",
        "model.compile(loss = 'sparse_categorical_crossentropy',\n",
        "              optimizer =optimizer,\n",
        "              metrics = ['accuracy'])"
      ]
    },
    {
      "cell_type": "markdown",
      "metadata": {},
      "source": [
        "The code compiles a Keras model using the Adam optimizer with a learning rate of 0.001. The chosen loss function is sparse categorical crossentropy, and the training progress will be evaluated based on accuracy."
      ]
    },
    {
      "cell_type": "code",
      "execution_count": 31,
      "metadata": {
        "colab": {
          "base_uri": "https://localhost:8080/"
        },
        "id": "1XgBEIh5hY63",
        "outputId": "d24b72b5-b707-4363-ccc7-bcc4cb3a83fd"
      },
      "outputs": [
        {
          "name": "stdout",
          "output_type": "stream",
          "text": [
            "Epoch 1/50\n",
            "WARNING:tensorflow:From c:\\Users\\maraujo\\OneDrive\\FIAP\\2ºano\\GlobalSolution-2sm\\skin_cancer_detection\\venv\\Lib\\site-packages\\keras\\src\\utils\\tf_utils.py:492: The name tf.ragged.RaggedTensorValue is deprecated. Please use tf.compat.v1.ragged.RaggedTensorValue instead.\n",
            "\n",
            "WARNING:tensorflow:From c:\\Users\\maraujo\\OneDrive\\FIAP\\2ºano\\GlobalSolution-2sm\\skin_cancer_detection\\venv\\Lib\\site-packages\\keras\\src\\engine\\base_layer_utils.py:384: The name tf.executing_eagerly_outside_functions is deprecated. Please use tf.compat.v1.executing_eagerly_outside_functions instead.\n",
            "\n",
            "235/235 [==============================] - ETA: 0s - loss: 1.1222 - accuracy: 0.6001\n",
            "Epoch 1: val_accuracy improved from -inf to 0.32253, saving model to best_model.h5\n",
            "235/235 [==============================] - 12s 35ms/step - loss: 1.1222 - accuracy: 0.6001 - val_loss: 2.0956 - val_accuracy: 0.3225\n",
            "Epoch 2/50\n",
            "234/235 [============================>.] - ETA: 0s - loss: 0.3916 - accuracy: 0.8701\n",
            "Epoch 2: val_accuracy improved from 0.32253 to 0.39240, saving model to best_model.h5\n",
            "235/235 [==============================] - 8s 35ms/step - loss: 0.3915 - accuracy: 0.8701 - val_loss: 1.4764 - val_accuracy: 0.3924\n",
            "Epoch 3/50\n",
            "233/235 [============================>.] - ETA: 0s - loss: 0.2546 - accuracy: 0.9132\n",
            "Epoch 3: val_accuracy improved from 0.39240 to 0.48173, saving model to best_model.h5\n",
            "235/235 [==============================] - 8s 34ms/step - loss: 0.2547 - accuracy: 0.9133 - val_loss: 1.1529 - val_accuracy: 0.4817\n",
            "Epoch 4/50\n",
            "234/235 [============================>.] - ETA: 0s - loss: 0.2048 - accuracy: 0.9309\n",
            "Epoch 4: val_accuracy improved from 0.48173 to 0.64013, saving model to best_model.h5\n",
            "235/235 [==============================] - 8s 35ms/step - loss: 0.2048 - accuracy: 0.9310 - val_loss: 0.8315 - val_accuracy: 0.6401\n",
            "Epoch 5/50\n",
            "234/235 [============================>.] - ETA: 0s - loss: 0.1646 - accuracy: 0.9437\n",
            "Epoch 5: val_accuracy did not improve from 0.64013\n",
            "235/235 [==============================] - 8s 34ms/step - loss: 0.1646 - accuracy: 0.9436 - val_loss: 1.4109 - val_accuracy: 0.4567\n",
            "Epoch 6/50\n",
            "234/235 [============================>.] - ETA: 0s - loss: 0.1331 - accuracy: 0.9540\n",
            "Epoch 6: val_accuracy improved from 0.64013 to 0.65293, saving model to best_model.h5\n",
            "235/235 [==============================] - 9s 37ms/step - loss: 0.1335 - accuracy: 0.9540 - val_loss: 0.6921 - val_accuracy: 0.6529\n",
            "Epoch 7/50\n",
            "234/235 [============================>.] - ETA: 0s - loss: 0.1168 - accuracy: 0.9601\n",
            "Epoch 7: val_accuracy improved from 0.65293 to 0.66573, saving model to best_model.h5\n",
            "235/235 [==============================] - 9s 37ms/step - loss: 0.1170 - accuracy: 0.9601 - val_loss: 0.9497 - val_accuracy: 0.6657\n",
            "Epoch 8/50\n",
            "235/235 [==============================] - ETA: 0s - loss: 0.1124 - accuracy: 0.9607\n",
            "Epoch 8: val_accuracy improved from 0.66573 to 0.68747, saving model to best_model.h5\n",
            "235/235 [==============================] - 8s 35ms/step - loss: 0.1124 - accuracy: 0.9607 - val_loss: 0.6742 - val_accuracy: 0.6875\n",
            "Epoch 9/50\n",
            "235/235 [==============================] - ETA: 0s - loss: 0.0903 - accuracy: 0.9684\n",
            "Epoch 9: val_accuracy improved from 0.68747 to 0.75947, saving model to best_model.h5\n",
            "235/235 [==============================] - 8s 35ms/step - loss: 0.0903 - accuracy: 0.9684 - val_loss: 0.6702 - val_accuracy: 0.7595\n",
            "Epoch 10/50\n",
            "234/235 [============================>.] - ETA: 0s - loss: 0.0927 - accuracy: 0.9680\n",
            "Epoch 10: val_accuracy did not improve from 0.75947\n",
            "235/235 [==============================] - 8s 35ms/step - loss: 0.0931 - accuracy: 0.9679 - val_loss: 1.0378 - val_accuracy: 0.6468\n",
            "Epoch 11/50\n",
            "235/235 [==============================] - ETA: 0s - loss: 0.0765 - accuracy: 0.9737\n",
            "Epoch 11: val_accuracy did not improve from 0.75947\n",
            "235/235 [==============================] - 8s 34ms/step - loss: 0.0765 - accuracy: 0.9737 - val_loss: 1.0973 - val_accuracy: 0.6197\n",
            "Epoch 12/50\n",
            "235/235 [==============================] - ETA: 0s - loss: 0.0707 - accuracy: 0.9760\n",
            "Epoch 12: val_accuracy improved from 0.75947 to 0.90360, saving model to best_model.h5\n",
            "235/235 [==============================] - 8s 35ms/step - loss: 0.0707 - accuracy: 0.9760 - val_loss: 0.2620 - val_accuracy: 0.9036\n",
            "Epoch 13/50\n",
            "234/235 [============================>.] - ETA: 0s - loss: 0.0585 - accuracy: 0.9799\n",
            "Epoch 13: val_accuracy did not improve from 0.90360\n",
            "235/235 [==============================] - 8s 34ms/step - loss: 0.0588 - accuracy: 0.9799 - val_loss: 0.3008 - val_accuracy: 0.8663\n",
            "Epoch 14/50\n",
            "234/235 [============================>.] - ETA: 0s - loss: 0.0473 - accuracy: 0.9839\n",
            "Epoch 14: val_accuracy improved from 0.90360 to 0.92347, saving model to best_model.h5\n",
            "235/235 [==============================] - 8s 34ms/step - loss: 0.0472 - accuracy: 0.9839 - val_loss: 0.2605 - val_accuracy: 0.9235\n",
            "Epoch 15/50\n",
            "235/235 [==============================] - ETA: 0s - loss: 0.0564 - accuracy: 0.9807\n",
            "Epoch 15: val_accuracy did not improve from 0.92347\n",
            "235/235 [==============================] - 8s 32ms/step - loss: 0.0564 - accuracy: 0.9807 - val_loss: 0.4858 - val_accuracy: 0.8263\n",
            "Epoch 16/50\n",
            "234/235 [============================>.] - ETA: 0s - loss: 0.0533 - accuracy: 0.9821\n",
            "Epoch 16: val_accuracy did not improve from 0.92347\n",
            "235/235 [==============================] - 7s 31ms/step - loss: 0.0533 - accuracy: 0.9821 - val_loss: 0.3257 - val_accuracy: 0.8880\n",
            "Epoch 17/50\n",
            "235/235 [==============================] - ETA: 0s - loss: 0.0411 - accuracy: 0.9858\n",
            "Epoch 17: val_accuracy did not improve from 0.92347\n",
            "235/235 [==============================] - 7s 31ms/step - loss: 0.0411 - accuracy: 0.9858 - val_loss: 0.4718 - val_accuracy: 0.8479\n",
            "Epoch 18/50\n",
            "233/235 [============================>.] - ETA: 0s - loss: 0.0462 - accuracy: 0.9849\n",
            "Epoch 18: val_accuracy improved from 0.92347 to 0.96440, saving model to best_model.h5\n",
            "235/235 [==============================] - 8s 33ms/step - loss: 0.0461 - accuracy: 0.9850 - val_loss: 0.0971 - val_accuracy: 0.9644\n",
            "Epoch 19/50\n",
            "234/235 [============================>.] - ETA: 0s - loss: 0.0342 - accuracy: 0.9891\n",
            "Epoch 19: val_accuracy did not improve from 0.96440\n",
            "235/235 [==============================] - 8s 34ms/step - loss: 0.0342 - accuracy: 0.9891 - val_loss: 0.4178 - val_accuracy: 0.8328\n",
            "Epoch 20/50\n",
            "234/235 [============================>.] - ETA: 0s - loss: 0.0388 - accuracy: 0.9878\n",
            "Epoch 20: val_accuracy did not improve from 0.96440\n",
            "235/235 [==============================] - 8s 35ms/step - loss: 0.0387 - accuracy: 0.9879 - val_loss: 0.8503 - val_accuracy: 0.7587\n",
            "Epoch 21/50\n",
            "235/235 [==============================] - ETA: 0s - loss: 0.0435 - accuracy: 0.9857\n",
            "Epoch 21: val_accuracy did not improve from 0.96440\n",
            "235/235 [==============================] - 8s 36ms/step - loss: 0.0435 - accuracy: 0.9857 - val_loss: 0.4640 - val_accuracy: 0.8308\n",
            "Epoch 22/50\n",
            "233/235 [============================>.] - ETA: 0s - loss: 0.0315 - accuracy: 0.9896\n",
            "Epoch 22: val_accuracy did not improve from 0.96440\n",
            "235/235 [==============================] - 8s 35ms/step - loss: 0.0318 - accuracy: 0.9895 - val_loss: 0.1643 - val_accuracy: 0.9261\n",
            "Epoch 23/50\n",
            "234/235 [============================>.] - ETA: 0s - loss: 0.0387 - accuracy: 0.9878\n",
            "Epoch 23: val_accuracy improved from 0.96440 to 0.97227, saving model to best_model.h5\n",
            "235/235 [==============================] - 8s 36ms/step - loss: 0.0387 - accuracy: 0.9878 - val_loss: 0.0649 - val_accuracy: 0.9723\n",
            "Epoch 24/50\n",
            "234/235 [============================>.] - ETA: 0s - loss: 0.0216 - accuracy: 0.9928\n",
            "Epoch 24: val_accuracy did not improve from 0.97227\n",
            "235/235 [==============================] - 8s 36ms/step - loss: 0.0220 - accuracy: 0.9927 - val_loss: 0.4493 - val_accuracy: 0.8580\n",
            "Epoch 25/50\n",
            "235/235 [==============================] - ETA: 0s - loss: 0.0355 - accuracy: 0.9887\n",
            "Epoch 25: val_accuracy did not improve from 0.97227\n",
            "235/235 [==============================] - 10s 44ms/step - loss: 0.0355 - accuracy: 0.9887 - val_loss: 0.4024 - val_accuracy: 0.8793\n",
            "Epoch 26/50\n",
            "235/235 [==============================] - ETA: 0s - loss: 0.0290 - accuracy: 0.9908\n",
            "Epoch 26: val_accuracy did not improve from 0.97227\n",
            "235/235 [==============================] - 11s 47ms/step - loss: 0.0290 - accuracy: 0.9908 - val_loss: 0.4062 - val_accuracy: 0.8708\n",
            "Epoch 27/50\n",
            "234/235 [============================>.] - ETA: 0s - loss: 0.0263 - accuracy: 0.9915\n",
            "Epoch 27: val_accuracy did not improve from 0.97227\n",
            "235/235 [==============================] - 9s 38ms/step - loss: 0.0264 - accuracy: 0.9915 - val_loss: 0.1773 - val_accuracy: 0.9399\n",
            "Epoch 28/50\n",
            "234/235 [============================>.] - ETA: 0s - loss: 0.0207 - accuracy: 0.9941\n",
            "Epoch 28: val_accuracy improved from 0.97227 to 0.97533, saving model to best_model.h5\n",
            "235/235 [==============================] - 9s 39ms/step - loss: 0.0207 - accuracy: 0.9940 - val_loss: 0.0667 - val_accuracy: 0.9753\n",
            "Epoch 29/50\n",
            "235/235 [==============================] - ETA: 0s - loss: 0.0253 - accuracy: 0.9916\n",
            "Epoch 29: val_accuracy did not improve from 0.97533\n",
            "235/235 [==============================] - 9s 39ms/step - loss: 0.0253 - accuracy: 0.9916 - val_loss: 0.5002 - val_accuracy: 0.8204\n",
            "Epoch 30/50\n",
            "235/235 [==============================] - ETA: 0s - loss: 0.0295 - accuracy: 0.9902\n",
            "Epoch 30: val_accuracy did not improve from 0.97533\n",
            "235/235 [==============================] - 9s 40ms/step - loss: 0.0295 - accuracy: 0.9902 - val_loss: 0.2891 - val_accuracy: 0.9175\n",
            "Epoch 31/50\n",
            "235/235 [==============================] - ETA: 0s - loss: 0.0168 - accuracy: 0.9944\n",
            "Epoch 31: val_accuracy did not improve from 0.97533\n",
            "235/235 [==============================] - 9s 38ms/step - loss: 0.0168 - accuracy: 0.9944 - val_loss: 0.1049 - val_accuracy: 0.9653\n",
            "Epoch 32/50\n",
            "234/235 [============================>.] - ETA: 0s - loss: 0.0185 - accuracy: 0.9941\n",
            "Epoch 32: val_accuracy did not improve from 0.97533\n",
            "235/235 [==============================] - 9s 38ms/step - loss: 0.0185 - accuracy: 0.9941 - val_loss: 0.1019 - val_accuracy: 0.9641\n",
            "Epoch 33/50\n",
            "234/235 [============================>.] - ETA: 0s - loss: 0.0189 - accuracy: 0.9941\n",
            "Epoch 33: val_accuracy did not improve from 0.97533\n",
            "235/235 [==============================] - 10s 42ms/step - loss: 0.0189 - accuracy: 0.9941 - val_loss: 0.0772 - val_accuracy: 0.9675\n",
            "Epoch 34/50\n",
            "234/235 [============================>.] - ETA: 0s - loss: 0.0223 - accuracy: 0.9931\n",
            "Epoch 34: val_accuracy did not improve from 0.97533\n",
            "235/235 [==============================] - 8s 35ms/step - loss: 0.0223 - accuracy: 0.9931 - val_loss: 0.2280 - val_accuracy: 0.9177\n",
            "Epoch 35/50\n",
            "234/235 [============================>.] - ETA: 0s - loss: 0.0246 - accuracy: 0.9920\n",
            "Epoch 35: val_accuracy did not improve from 0.97533\n",
            "235/235 [==============================] - 9s 39ms/step - loss: 0.0247 - accuracy: 0.9919 - val_loss: 0.2466 - val_accuracy: 0.9101\n",
            "Epoch 36/50\n",
            "234/235 [============================>.] - ETA: 0s - loss: 0.0107 - accuracy: 0.9966\n",
            "Epoch 36: val_accuracy improved from 0.97533 to 0.99227, saving model to best_model.h5\n",
            "235/235 [==============================] - 10s 41ms/step - loss: 0.0106 - accuracy: 0.9966 - val_loss: 0.0187 - val_accuracy: 0.9923\n",
            "Epoch 37/50\n",
            "234/235 [============================>.] - ETA: 0s - loss: 0.0149 - accuracy: 0.9953\n",
            "Epoch 37: val_accuracy did not improve from 0.99227\n",
            "235/235 [==============================] - 9s 39ms/step - loss: 0.0149 - accuracy: 0.9953 - val_loss: 0.8549 - val_accuracy: 0.7575\n",
            "Epoch 38/50\n",
            "234/235 [============================>.] - ETA: 0s - loss: 0.0265 - accuracy: 0.9919\n",
            "Epoch 38: val_accuracy did not improve from 0.99227\n",
            "235/235 [==============================] - 11s 47ms/step - loss: 0.0266 - accuracy: 0.9918 - val_loss: 0.3163 - val_accuracy: 0.8903\n",
            "Epoch 39/50\n",
            "234/235 [============================>.] - ETA: 0s - loss: 0.0169 - accuracy: 0.9942\n",
            "Epoch 39: val_accuracy did not improve from 0.99227\n",
            "235/235 [==============================] - 13s 57ms/step - loss: 0.0169 - accuracy: 0.9942 - val_loss: 0.0472 - val_accuracy: 0.9844\n",
            "Epoch 40/50\n",
            "235/235 [==============================] - ETA: 0s - loss: 0.0103 - accuracy: 0.9965\n",
            "Epoch 40: val_accuracy did not improve from 0.99227\n",
            "235/235 [==============================] - 10s 44ms/step - loss: 0.0103 - accuracy: 0.9965 - val_loss: 0.0864 - val_accuracy: 0.9692\n",
            "Epoch 41/50\n",
            "234/235 [============================>.] - ETA: 0s - loss: 0.0109 - accuracy: 0.9966\n",
            "Epoch 41: val_accuracy did not improve from 0.99227\n",
            "235/235 [==============================] - 12s 53ms/step - loss: 0.0109 - accuracy: 0.9966 - val_loss: 0.3828 - val_accuracy: 0.8856\n",
            "Epoch 42/50\n",
            "234/235 [============================>.] - ETA: 0s - loss: 0.0219 - accuracy: 0.9935\n",
            "Epoch 42: val_accuracy did not improve from 0.99227\n",
            "235/235 [==============================] - 10s 41ms/step - loss: 0.0222 - accuracy: 0.9934 - val_loss: 0.0934 - val_accuracy: 0.9664\n",
            "Epoch 43/50\n",
            "235/235 [==============================] - ETA: 0s - loss: 0.0185 - accuracy: 0.9939\n",
            "Epoch 43: val_accuracy did not improve from 0.99227\n",
            "235/235 [==============================] - 11s 48ms/step - loss: 0.0185 - accuracy: 0.9939 - val_loss: 0.0767 - val_accuracy: 0.9731\n",
            "Epoch 44/50\n",
            "235/235 [==============================] - ETA: 0s - loss: 0.0157 - accuracy: 0.9956\n",
            "Epoch 44: val_accuracy did not improve from 0.99227\n",
            "235/235 [==============================] - 10s 41ms/step - loss: 0.0157 - accuracy: 0.9956 - val_loss: 0.0817 - val_accuracy: 0.9753\n",
            "Epoch 45/50\n",
            "235/235 [==============================] - ETA: 0s - loss: 0.0089 - accuracy: 0.9975\n",
            "Epoch 45: val_accuracy did not improve from 0.99227\n",
            "235/235 [==============================] - 11s 47ms/step - loss: 0.0089 - accuracy: 0.9975 - val_loss: 0.7867 - val_accuracy: 0.8075\n",
            "Epoch 46/50\n",
            "234/235 [============================>.] - ETA: 0s - loss: 0.0173 - accuracy: 0.9949\n",
            "Epoch 46: val_accuracy did not improve from 0.99227\n",
            "235/235 [==============================] - 12s 50ms/step - loss: 0.0173 - accuracy: 0.9949 - val_loss: 0.1470 - val_accuracy: 0.9525\n",
            "Epoch 47/50\n",
            "234/235 [============================>.] - ETA: 0s - loss: 0.0110 - accuracy: 0.9967\n",
            "Epoch 47: val_accuracy did not improve from 0.99227\n",
            "235/235 [==============================] - 10s 44ms/step - loss: 0.0111 - accuracy: 0.9967 - val_loss: 1.5063 - val_accuracy: 0.6816\n",
            "Epoch 48/50\n",
            "234/235 [============================>.] - ETA: 0s - loss: 0.0239 - accuracy: 0.9932\n",
            "Epoch 48: val_accuracy did not improve from 0.99227\n",
            "235/235 [==============================] - 10s 43ms/step - loss: 0.0239 - accuracy: 0.9932 - val_loss: 0.0439 - val_accuracy: 0.9825\n",
            "Epoch 49/50\n",
            "234/235 [============================>.] - ETA: 0s - loss: 0.0091 - accuracy: 0.9972\n",
            "Epoch 49: val_accuracy did not improve from 0.99227\n",
            "235/235 [==============================] - 11s 46ms/step - loss: 0.0091 - accuracy: 0.9972 - val_loss: 0.0372 - val_accuracy: 0.9880\n",
            "Epoch 50/50\n",
            "234/235 [============================>.] - ETA: 0s - loss: 0.0152 - accuracy: 0.9951\n",
            "Epoch 50: val_accuracy did not improve from 0.99227\n",
            "235/235 [==============================] - 13s 53ms/step - loss: 0.0153 - accuracy: 0.9951 - val_loss: 0.0960 - val_accuracy: 0.9647\n",
            "Duration: 0:07:45.793233\n"
          ]
        }
      ],
      "source": [
        "from datetime import datetime\n",
        "\n",
        "start_time = datetime.now()\n",
        "history = model.fit(x_train,\n",
        "                    y_train,\n",
        "                    validation_split=0.2,\n",
        "                    batch_size=128,\n",
        "                    epochs=50,\n",
        "                    shuffle=True,\n",
        "                    callbacks=[checkpoint_callback])\n",
        "end_time = datetime.now()\n",
        "print('Duration: {}'.format(end_time - start_time))"
      ]
    },
    {
      "cell_type": "markdown",
      "metadata": {},
      "source": [
        "The code snippet performs training on the specified Keras model (`model`) using training data (`x_train` and `y_train`). Training lasts for 50 epochs with a batch size of 128, and 20% of the data is used for validation. The `shuffle` parameter randomizes the order of training samples. The `ModelCheckpoint` callback is utilized for saving the best model during training. The duration of the training process is then printed."
      ]
    },
    {
      "cell_type": "code",
      "execution_count": 32,
      "metadata": {
        "colab": {
          "base_uri": "https://localhost:8080/",
          "height": 295
        },
        "id": "qieCeDDGnEh3",
        "outputId": "52fdd55f-ea6b-41f6-bad6-874ca1236128"
      },
      "outputs": [
        {
          "data": {
            "image/png": "[encoded data removed]",
            "text/plain": [
              "<Figure size 640x480 with 1 Axes>"
            ]
          },
          "metadata": {},
          "output_type": "display_data"
        }
      ],
      "source": [
        "#plot of accuracy vs epoch\n",
        "\n",
        "plt.plot(history.history['accuracy'])\n",
        "plt.plot(history.history['val_accuracy'])\n",
        "plt.title('model accuracy')\n",
        "plt.ylabel('accuracy')\n",
        "plt.xlabel('epoch')\n",
        "plt.legend(['train', 'val'], loc='upper left')\n",
        "plt.show()"
      ]
    },
    {
      "cell_type": "markdown",
      "metadata": {},
      "source": [
        "The code generates a plot displaying the model's accuracy over epochs. The training accuracy is represented by the 'train' curve, while the validation accuracy is represented by the 'val' curve. This visualization helps assess the model's performance and potential overfitting or underfitting during training."
      ]
    },
    {
      "cell_type": "code",
      "execution_count": 33,
      "metadata": {
        "colab": {
          "base_uri": "https://localhost:8080/",
          "height": 295
        },
        "id": "8gK_9yQotuky",
        "outputId": "28e090aa-f2da-439f-b06a-daf0aaefaa15"
      },
      "outputs": [
        {
          "data": {
            "image/png": "[encoded data removed]",
            "text/plain": [
              "<Figure size 640x480 with 1 Axes>"
            ]
          },
          "metadata": {},
          "output_type": "display_data"
        }
      ],
      "source": [
        "#plot of loss vs epoch\n",
        "\n",
        "plt.plot(history.history['loss'])\n",
        "plt.plot(history.history['val_loss'])\n",
        "plt.title('model loss')\n",
        "plt.ylabel('loss')\n",
        "plt.xlabel('epoch')\n",
        "plt.legend(['train', 'val'], loc='upper left')\n",
        "plt.show()"
      ]
    },
    {
      "cell_type": "markdown",
      "metadata": {},
      "source": [
        "The code creates a plot illustrating the model's loss over epochs. The 'train' curve represents the training loss, while the 'val' curve represents the validation loss. Monitoring these curves aids in understanding the model's learning progress and identifying potential issues such as underfitting or overfitting."
      ]
    },
    {
      "cell_type": "code",
      "execution_count": 34,
      "metadata": {
        "id": "w9uqTVqftz1w"
      },
      "outputs": [],
      "source": [
        "model.load_weights('best_model.h5')"
      ]
    },
    {
      "cell_type": "markdown",
      "metadata": {},
      "source": [
        "The code snippet loads the weights of the best-performing model, as saved by the `ModelCheckpoint` callback during training. The file 'best_model.h5' contains the saved weights, ensuring that the model is restored to its optimal state."
      ]
    },
    {
      "cell_type": "code",
      "execution_count": 35,
      "metadata": {
        "colab": {
          "base_uri": "https://localhost:8080/"
        },
        "id": "lzqOpvxMt2Xb",
        "outputId": "5fdc5e94-cac2-41ba-d569-3a230c4eea63"
      },
      "outputs": [
        {
          "name": "stdout",
          "output_type": "stream",
          "text": [
            "63/63 - 1s - loss: 1.4718 - accuracy: 0.7479 - 990ms/epoch - 16ms/step\n"
          ]
        }
      ],
      "source": [
        "x_test=np.array(x_test).reshape(-1,28,28,3)\n",
        "\n",
        "loss, acc = model.evaluate(x_test, y_test, verbose=2)"
      ]
    },
    {
      "cell_type": "markdown",
      "metadata": {},
      "source": [
        "The code evaluates the trained model's performance on the test dataset (`x_test` and `y_test`). The resulting loss and accuracy metrics provide valuable insights into how well the model generalizes to previously unseen data."
      ]
    },
    {
      "cell_type": "code",
      "execution_count": 36,
      "metadata": {
        "id": "KHh_xm9e0kgT"
      },
      "outputs": [
        {
          "name": "stdout",
          "output_type": "stream",
          "text": [
            "63/63 [==============================] - 1s 10ms/step\n"
          ]
        }
      ],
      "source": [
        "from sklearn.metrics import confusion_matrix\n",
        "\n",
        "y_pred = model.predict(x_test)\n",
        "y_pred = np.argmax(y_pred, axis=1)\n",
        "\n",
        "conf_mat = confusion_matrix(y_test, y_pred)\n"
      ]
    },
    {
      "cell_type": "markdown",
      "metadata": {},
      "source": [
        "The code calculates the confusion matrix using scikit-learn. It predicts labels for the test data using the trained model and compares them with the true labels. The resulting confusion matrix (`conf_mat`) offers a comprehensive view of the model"
      ]
    },
    {
      "cell_type": "code",
      "execution_count": 41,
      "metadata": {
        "colab": {
          "base_uri": "https://localhost:8080/"
        },
        "id": "tBWa4PFe8qCQ",
        "outputId": "bbda8134-01c6-41a7-f042-ea382666cce9"
      },
      "outputs": [
        {
          "name": "stdout",
          "output_type": "stream",
          "text": [
            "1/1 [==============================] - 0s 42ms/step\n",
            "[6.7934143e-06 1.7062312e-07 4.3806731e-06 4.7039691e-08 9.9997354e-01\n",
            " 6.7593987e-07 1.4500788e-05]\n",
            "('nv', ' melanocytic nevi')\n"
          ]
        }
      ],
      "source": [
        "import PIL\n",
        "\n",
        "image=PIL.Image.open(\"C:\\\\Users\\\\maraujo\\\\Desktop\\\\2.jpeg\")\n",
        "image=image.resize((28,28))\n",
        "img=x_test[1]\n",
        "img=np.array(image).reshape(-1,28,28,3)\n",
        "result=model.predict(img)\n",
        "print(result[0])\n",
        "result=result.tolist()\n",
        "max_prob=max(result[0])\n",
        "class_ind=result[0].index(max_prob)\n",
        "print(classes[class_ind])"
      ]
    },
    {
      "cell_type": "markdown",
      "metadata": {},
      "source": [
        "The code reads and resizes an image (`2.jpeg`) using the PIL library. It then converts the image to a NumPy array and reshapes it to match the model's input shape. The model predicts the class probabilities for the image, and the class with the highest probability is printed along with its corresponding label from the `classes` list."
      ]
    }
  ],
  "metadata": {
    "accelerator": "GPU",
    "colab": {
      "collapsed_sections": [],
      "include_colab_link": true,
      "name": "Skin_Cancer_Detection.ipynb",
      "provenance": []
    },
    "kernelspec": {
      "display_name": "Python 3",
      "language": "python",
      "name": "python3"
    },
    "language_info": {
      "codemirror_mode": {
        "name": "ipython",
        "version": 3
      },
      "file_extension": ".py",
      "mimetype": "text/x-python",
      "name": "python",
      "nbconvert_exporter": "python",
      "pygments_lexer": "ipython3",
      "version": "3.11.6"
    }
  },
  "nbformat": 4,
  "nbformat_minor": 0
}
